{
  "nbformat": 4,
  "nbformat_minor": 0,
  "metadata": {
    "colab": {
      "provenance": [],
      "authorship_tag": "ABX9TyN4/LErR+AN7ZCMIvm2QFHB",
      "include_colab_link": true
    },
    "kernelspec": {
      "name": "python3",
      "display_name": "Python 3"
    },
    "language_info": {
      "name": "python"
    }
  },
  "cells": [
    {
      "cell_type": "markdown",
      "metadata": {
        "id": "view-in-github",
        "colab_type": "text"
      },
      "source": [
        "<a href=\"https://colab.research.google.com/github/Krishantsingh/Python-Basic-Assignment-/blob/main/Python_Basic_Assignment_1.ipynb\" target=\"_parent\"><img src=\"https://colab.research.google.com/assets/colab-badge.svg\" alt=\"Open In Colab\"/></a>"
      ]
    },
    {
      "cell_type": "markdown",
      "source": [
        "1. Explain the key features of Python that make it a popular choice for programming.\n",
        "\n",
        "  =There are several key features of python that make it a popular choice for programming. Some of them are as folow,\n",
        "- A lot of libraries\n",
        "- Automation\n",
        "- Easy to learn\n",
        "- Huge active community"
      ],
      "metadata": {
        "id": "00TVM6i6dOOg"
      }
    },
    {
      "cell_type": "code",
      "source": [],
      "metadata": {
        "id": "GHIy6rTKdQHy"
      },
      "execution_count": null,
      "outputs": []
    },
    {
      "cell_type": "markdown",
      "source": [
        "2. Describe the role of predefined keywords in Python and provide examples of\n",
        "   how they are used in a program.\n",
        "\n",
        "   =  Keywords are predifined words that hold a specific meaning and have specific\n",
        "   purpose.predefined keywords are reserved words that have special meanings and cannot be used as identifiers.\n",
        "\n",
        "   Some major roles of predifined keywords in python are as follow,\n",
        "   \n",
        "   i.Control Flow: Keywords like if, else, elif, for, while, and break are used to control the flow of execution in a program, allowing for decision-making and iteration.\n",
        "   \n",
        "   for example,\n",
        "\n"
      ],
      "metadata": {
        "id": "ZWgo4AEbdXJo"
      }
    },
    {
      "cell_type": "code",
      "source": [
        "a=4\n",
        "b=7\n",
        "if b>a:\n",
        "  print(\"b is greater than a\")\n",
        "elif a+b>10:\n",
        "  print(\"The sum of a and b is greatre than 10\")\n",
        "else:\n",
        "  print(\"None of the above\")"
      ],
      "metadata": {
        "colab": {
          "base_uri": "https://localhost:8080/"
        },
        "id": "qKGyS6xWgHA4",
        "outputId": "52f8638f-9588-49f7-9506-2eb927591374"
      },
      "execution_count": null,
      "outputs": [
        {
          "output_type": "stream",
          "name": "stdout",
          "text": [
            "b is greater than a\n"
          ]
        }
      ]
    },
    {
      "cell_type": "code",
      "source": [],
      "metadata": {
        "id": "YXiji2pGc0cj"
      },
      "execution_count": null,
      "outputs": []
    },
    {
      "cell_type": "markdown",
      "source": [
        "3. Compare and contrast mutable and immutable objects in Python with examples.\n",
        "\n",
        "  = Mutable Objects:\n",
        "  -objects or container whose value can be changed after they are created are\n",
        "  called as Mutable objects. List is a type of mutable Objects.\n",
        "\n",
        "  Example:\n",
        "\n",
        "\n",
        "\n",
        "\n",
        "\n"
      ],
      "metadata": {
        "id": "0Lf95rLLhcmI"
      }
    },
    {
      "cell_type": "code",
      "source": [
        "a=[1,2,3.5,\"Ajay\"]\n",
        "#if we want to change \"Ajay\" with \"Bijay\" then,\n",
        "a[3]=\"Bijay\"\n",
        "print(a)"
      ],
      "metadata": {
        "colab": {
          "base_uri": "https://localhost:8080/"
        },
        "id": "_-3rekc7iIq2",
        "outputId": "e636cbf1-df12-4ccf-a40c-07d8f12aab23"
      },
      "execution_count": null,
      "outputs": [
        {
          "output_type": "stream",
          "name": "stdout",
          "text": [
            "[1, 2, 3.5, 'Bijay']\n"
          ]
        }
      ]
    },
    {
      "cell_type": "code",
      "source": [],
      "metadata": {
        "id": "RgvwweDrikDz"
      },
      "execution_count": null,
      "outputs": []
    },
    {
      "cell_type": "markdown",
      "source": [
        "Immutable Objects:\n",
        "\n",
        "- The objects or container whose value cant't be changed after they are created are called as Immutable Objects. string is an immutable object.\n",
        "\n",
        "Example:\n"
      ],
      "metadata": {
        "id": "fZZUNpToi8mk"
      }
    },
    {
      "cell_type": "code",
      "source": [
        "b=\"Ram\"\n",
        "#if we have to change 'a' in \"Ram\" with 3 then we can't do this\n",
        "b[1]=3\n",
        "print(b)\n",
        "\n",
        "#here we got an error"
      ],
      "metadata": {
        "colab": {
          "base_uri": "https://localhost:8080/",
          "height": 193
        },
        "id": "qv18udyCjeMO",
        "outputId": "6b5a253e-53ab-4005-9ebc-534ac55976f4"
      },
      "execution_count": null,
      "outputs": [
        {
          "output_type": "error",
          "ename": "TypeError",
          "evalue": "'str' object does not support item assignment",
          "traceback": [
            "\u001b[0;31m---------------------------------------------------------------------------\u001b[0m",
            "\u001b[0;31mTypeError\u001b[0m                                 Traceback (most recent call last)",
            "\u001b[0;32m<ipython-input-6-2593a014d0f9>\u001b[0m in \u001b[0;36m<cell line: 3>\u001b[0;34m()\u001b[0m\n\u001b[1;32m      1\u001b[0m \u001b[0mb\u001b[0m\u001b[0;34m=\u001b[0m\u001b[0;34m\"Ram\"\u001b[0m\u001b[0;34m\u001b[0m\u001b[0;34m\u001b[0m\u001b[0m\n\u001b[1;32m      2\u001b[0m \u001b[0;31m#if we have to change 'a' in \"Ram\" with 3 then we can't do this\u001b[0m\u001b[0;34m\u001b[0m\u001b[0;34m\u001b[0m\u001b[0m\n\u001b[0;32m----> 3\u001b[0;31m \u001b[0mb\u001b[0m\u001b[0;34m[\u001b[0m\u001b[0;36m1\u001b[0m\u001b[0;34m]\u001b[0m\u001b[0;34m=\u001b[0m\u001b[0;36m3\u001b[0m\u001b[0;34m\u001b[0m\u001b[0;34m\u001b[0m\u001b[0m\n\u001b[0m\u001b[1;32m      4\u001b[0m \u001b[0mprint\u001b[0m\u001b[0;34m(\u001b[0m\u001b[0mb\u001b[0m\u001b[0;34m)\u001b[0m\u001b[0;34m\u001b[0m\u001b[0;34m\u001b[0m\u001b[0m\n",
            "\u001b[0;31mTypeError\u001b[0m: 'str' object does not support item assignment"
          ]
        }
      ]
    },
    {
      "cell_type": "markdown",
      "source": [
        "4. Discuss the different types of operators in Python and provide examples of how they are used.\n",
        "\n",
        "   -There are different types of operators in python. Some of them are as follow,\n",
        "  \n",
        "  i. Arithmatic Operators:\n",
        "\n",
        "  -This operator is used to perform Additio, Subtraction, Division and Multiplication in python.This operator are +, -, *, / etc.\n",
        "  \n",
        "  example:\n",
        "  "
      ],
      "metadata": {
        "id": "tDNjE5lVj6_j"
      }
    },
    {
      "cell_type": "code",
      "source": [
        "a=1\n",
        "b=3\n",
        "a+b"
      ],
      "metadata": {
        "colab": {
          "base_uri": "https://localhost:8080/"
        },
        "id": "WwycHvrQmC3o",
        "outputId": "bed20272-698f-46cb-834b-35bc4d968c64"
      },
      "execution_count": null,
      "outputs": [
        {
          "output_type": "execute_result",
          "data": {
            "text/plain": [
              "4"
            ]
          },
          "metadata": {},
          "execution_count": 7
        }
      ]
    },
    {
      "cell_type": "code",
      "source": [
        "a-b"
      ],
      "metadata": {
        "colab": {
          "base_uri": "https://localhost:8080/"
        },
        "id": "Fe_lDQWij1Pf",
        "outputId": "dc5a9a9f-f353-44d1-c9ba-00107e56c8b1"
      },
      "execution_count": null,
      "outputs": [
        {
          "output_type": "execute_result",
          "data": {
            "text/plain": [
              "-2"
            ]
          },
          "metadata": {},
          "execution_count": 8
        }
      ]
    },
    {
      "cell_type": "code",
      "source": [
        "a*b"
      ],
      "metadata": {
        "colab": {
          "base_uri": "https://localhost:8080/"
        },
        "id": "TNwf3XUemJbD",
        "outputId": "a6c296c8-cfa3-41e9-f013-e1b8fe8ecb6b"
      },
      "execution_count": null,
      "outputs": [
        {
          "output_type": "execute_result",
          "data": {
            "text/plain": [
              "3"
            ]
          },
          "metadata": {},
          "execution_count": 9
        }
      ]
    },
    {
      "cell_type": "code",
      "source": [
        "a/b"
      ],
      "metadata": {
        "colab": {
          "base_uri": "https://localhost:8080/"
        },
        "id": "s4bqUDy4mK91",
        "outputId": "aeae9ff5-8c8e-46e9-f6fd-79b4898084c0"
      },
      "execution_count": null,
      "outputs": [
        {
          "output_type": "execute_result",
          "data": {
            "text/plain": [
              "0.3333333333333333"
            ]
          },
          "metadata": {},
          "execution_count": 10
        }
      ]
    },
    {
      "cell_type": "code",
      "source": [],
      "metadata": {
        "id": "WaXyE86mmM7_"
      },
      "execution_count": null,
      "outputs": []
    },
    {
      "cell_type": "markdown",
      "source": [
        "ii. Modulos Operator:\n",
        " - -This operator is used to calculate the remainder of the division between two numbers. It is  represented by % this sign.\n",
        "\n",
        " example,"
      ],
      "metadata": {
        "id": "nHeTPFRnmQKU"
      }
    },
    {
      "cell_type": "code",
      "source": [
        "a=20\n",
        "b=3\n",
        "a%b"
      ],
      "metadata": {
        "colab": {
          "base_uri": "https://localhost:8080/"
        },
        "id": "AKho8SH6nNUN",
        "outputId": "53f40e8d-1040-4dfe-ef7f-25e240b65a04"
      },
      "execution_count": null,
      "outputs": [
        {
          "output_type": "execute_result",
          "data": {
            "text/plain": [
              "2"
            ]
          },
          "metadata": {},
          "execution_count": 12
        }
      ]
    },
    {
      "cell_type": "markdown",
      "source": [
        "iii. Floor Operator:\n",
        "\n",
        "   - This operatpr is used to get the value at lower side of a float value. It\n",
        "     is represented by (//) this sign.\n",
        "\n",
        "     example:\n",
        "    "
      ],
      "metadata": {
        "id": "iDCHAU0wnnTA"
      }
    },
    {
      "cell_type": "code",
      "source": [
        "a=21\n",
        "b=2\n",
        "a/b"
      ],
      "metadata": {
        "colab": {
          "base_uri": "https://localhost:8080/"
        },
        "id": "PCJ6QyL6otRs",
        "outputId": "0708ee42-ecbf-4dc6-968d-37855d37057a"
      },
      "execution_count": null,
      "outputs": [
        {
          "output_type": "execute_result",
          "data": {
            "text/plain": [
              "10.5"
            ]
          },
          "metadata": {},
          "execution_count": 14
        }
      ]
    },
    {
      "cell_type": "code",
      "source": [
        "a//b"
      ],
      "metadata": {
        "colab": {
          "base_uri": "https://localhost:8080/"
        },
        "id": "ugLBV-F3owkd",
        "outputId": "6811c290-8291-4a0d-ea7c-83a3a3f8694d"
      },
      "execution_count": null,
      "outputs": [
        {
          "output_type": "execute_result",
          "data": {
            "text/plain": [
              "10"
            ]
          },
          "metadata": {},
          "execution_count": 15
        }
      ]
    },
    {
      "cell_type": "markdown",
      "source": [
        "iv. Comparison Operator:\n",
        "   \n",
        "  -This operator returns a boolean value as a return of comparison of two value. This operaor are ==, !=, <=, >= etc.\n",
        "\n",
        "  example:\n",
        "\n",
        "  \n"
      ],
      "metadata": {
        "id": "P7z-rVchpUPi"
      }
    },
    {
      "cell_type": "code",
      "source": [
        "a=2\n",
        "b=3\n",
        "a==b"
      ],
      "metadata": {
        "colab": {
          "base_uri": "https://localhost:8080/"
        },
        "id": "xLdiFB2OqctE",
        "outputId": "bcaec5b5-4653-4955-863b-5ecf9414c346"
      },
      "execution_count": null,
      "outputs": [
        {
          "output_type": "execute_result",
          "data": {
            "text/plain": [
              "False"
            ]
          },
          "metadata": {},
          "execution_count": 16
        }
      ]
    },
    {
      "cell_type": "code",
      "source": [
        "a!=b"
      ],
      "metadata": {
        "colab": {
          "base_uri": "https://localhost:8080/"
        },
        "id": "pN6SZLutqouN",
        "outputId": "80cdf625-00f1-49f5-84ea-2698b254ab82"
      },
      "execution_count": null,
      "outputs": [
        {
          "output_type": "execute_result",
          "data": {
            "text/plain": [
              "True"
            ]
          },
          "metadata": {},
          "execution_count": 17
        }
      ]
    },
    {
      "cell_type": "code",
      "source": [
        "b>=a"
      ],
      "metadata": {
        "colab": {
          "base_uri": "https://localhost:8080/"
        },
        "id": "9f5cbkhEq2DT",
        "outputId": "93880f87-0f1b-47ce-aa05-9b246bcd9ad7"
      },
      "execution_count": null,
      "outputs": [
        {
          "output_type": "execute_result",
          "data": {
            "text/plain": [
              "True"
            ]
          },
          "metadata": {},
          "execution_count": 18
        }
      ]
    },
    {
      "cell_type": "code",
      "source": [
        "a<=b"
      ],
      "metadata": {
        "colab": {
          "base_uri": "https://localhost:8080/"
        },
        "id": "TthZ49IWq53u",
        "outputId": "b553e762-d396-4bf8-9980-ffc232ae0ad9"
      },
      "execution_count": null,
      "outputs": [
        {
          "output_type": "execute_result",
          "data": {
            "text/plain": [
              "True"
            ]
          },
          "metadata": {},
          "execution_count": 19
        }
      ]
    },
    {
      "cell_type": "markdown",
      "source": [
        "v. Assignment Operator:\n",
        "  - This operator is used to assign some value to any variable. Such as +=, -=, *=, /= etc.\n",
        "\n",
        "  example:"
      ],
      "metadata": {
        "id": "EJb0Is-7rUSY"
      }
    },
    {
      "cell_type": "code",
      "source": [
        "a=4\n",
        "a+=2\n",
        "a"
      ],
      "metadata": {
        "colab": {
          "base_uri": "https://localhost:8080/"
        },
        "id": "FMkxi_0rsCbY",
        "outputId": "1e9c9a5a-f74a-424a-fb44-da911340d7da"
      },
      "execution_count": null,
      "outputs": [
        {
          "output_type": "execute_result",
          "data": {
            "text/plain": [
              "6"
            ]
          },
          "metadata": {},
          "execution_count": 20
        }
      ]
    },
    {
      "cell_type": "code",
      "source": [
        "a-=1\n",
        "a"
      ],
      "metadata": {
        "colab": {
          "base_uri": "https://localhost:8080/"
        },
        "id": "Yl4-2C1ksGHp",
        "outputId": "ce84ec1e-0432-4b21-ad35-4b5ecc6cbf44"
      },
      "execution_count": null,
      "outputs": [
        {
          "output_type": "execute_result",
          "data": {
            "text/plain": [
              "5"
            ]
          },
          "metadata": {},
          "execution_count": 21
        }
      ]
    },
    {
      "cell_type": "code",
      "source": [
        "a*=2\n",
        "a"
      ],
      "metadata": {
        "colab": {
          "base_uri": "https://localhost:8080/"
        },
        "id": "5PygtyPHsIzK",
        "outputId": "0b3bca97-5c73-46a5-9bf7-077a32f5039d"
      },
      "execution_count": null,
      "outputs": [
        {
          "output_type": "execute_result",
          "data": {
            "text/plain": [
              "20"
            ]
          },
          "metadata": {},
          "execution_count": 23
        }
      ]
    },
    {
      "cell_type": "markdown",
      "source": [
        "5.  Explain the concept of type casting in Python with examples.\n",
        "\n",
        "  - The process of changing the data type of a value/object is known is Type casting. While executing or computing using operator, there can be mismatch between data type. So type casting is used to match convert the data type into another required data type.\n",
        "\n",
        "   it is of two types:\n",
        "\n",
        "     i. Implicit Type Casting:\n",
        "  \n",
        "     -In this type casting, we don't need to define variable data type, Python itself understand the data type.\n",
        "   \n",
        "\n",
        "     example:\n",
        "\n",
        "\n",
        "  \n",
        "\n"
      ],
      "metadata": {
        "id": "4hFCHCiPsgnX"
      }
    },
    {
      "cell_type": "code",
      "source": [
        "#here we dot't need to change the data type\n",
        "a=2\n",
        "b=3.5\n",
        "a+b"
      ],
      "metadata": {
        "colab": {
          "base_uri": "https://localhost:8080/"
        },
        "id": "zQM1wvmkv-dM",
        "outputId": "7ff96095-47cf-479a-a5b8-c8e94280ba10"
      },
      "execution_count": null,
      "outputs": [
        {
          "output_type": "execute_result",
          "data": {
            "text/plain": [
              "5.5"
            ]
          },
          "metadata": {},
          "execution_count": 30
        }
      ]
    },
    {
      "cell_type": "markdown",
      "source": [
        "ii. Explicit Type Casting:\n",
        "\n",
        "  -In this type casting we have to define variabe data type to perform any function.\n",
        "\n",
        "  Example\n",
        "\n"
      ],
      "metadata": {
        "id": "KKbMlJ59xjdk"
      }
    },
    {
      "cell_type": "code",
      "source": [
        "#here we have to define data type of variable\n",
        "a=2\n",
        "b=\"3.5\"\n",
        "a+b"
      ],
      "metadata": {
        "colab": {
          "base_uri": "https://localhost:8080/",
          "height": 176
        },
        "id": "dz4lI6KxxtUr",
        "outputId": "9e3fbab0-798a-4820-dc76-904a1eae13a6"
      },
      "execution_count": null,
      "outputs": [
        {
          "output_type": "error",
          "ename": "TypeError",
          "evalue": "unsupported operand type(s) for +: 'int' and 'str'",
          "traceback": [
            "\u001b[0;31m---------------------------------------------------------------------------\u001b[0m",
            "\u001b[0;31mTypeError\u001b[0m                                 Traceback (most recent call last)",
            "\u001b[0;32m<ipython-input-33-d207e376886b>\u001b[0m in \u001b[0;36m<cell line: 4>\u001b[0;34m()\u001b[0m\n\u001b[1;32m      2\u001b[0m \u001b[0ma\u001b[0m\u001b[0;34m=\u001b[0m\u001b[0;36m2\u001b[0m\u001b[0;34m\u001b[0m\u001b[0;34m\u001b[0m\u001b[0m\n\u001b[1;32m      3\u001b[0m \u001b[0mb\u001b[0m\u001b[0;34m=\u001b[0m\u001b[0;34m\"3.5\"\u001b[0m\u001b[0;34m\u001b[0m\u001b[0;34m\u001b[0m\u001b[0m\n\u001b[0;32m----> 4\u001b[0;31m \u001b[0ma\u001b[0m\u001b[0;34m+\u001b[0m\u001b[0mb\u001b[0m\u001b[0;34m\u001b[0m\u001b[0;34m\u001b[0m\u001b[0m\n\u001b[0m",
            "\u001b[0;31mTypeError\u001b[0m: unsupported operand type(s) for +: 'int' and 'str'"
          ]
        }
      ]
    },
    {
      "cell_type": "code",
      "source": [
        "a+float(b)"
      ],
      "metadata": {
        "colab": {
          "base_uri": "https://localhost:8080/"
        },
        "id": "MIJVwU-Qx8Uw",
        "outputId": "c1863175-7230-48a8-9208-7bdc4fb1dc9f"
      },
      "execution_count": null,
      "outputs": [
        {
          "output_type": "execute_result",
          "data": {
            "text/plain": [
              "5.5"
            ]
          },
          "metadata": {},
          "execution_count": 34
        }
      ]
    },
    {
      "cell_type": "markdown",
      "source": [
        "7.  How do conditional statements work in Python? Illustrate with examples.\n",
        "  \n",
        "   = Conditional Statement helps us to code decision based on some  \n",
        "     precondition. Some of conditional statements are if statement, elif statement and else statement.\n",
        "\n",
        "     Example:\n",
        "\n"
      ],
      "metadata": {
        "id": "iQ29Th25GPfq"
      }
    },
    {
      "cell_type": "code",
      "source": [
        "a=1\n",
        "b=5\n",
        "if a>b:\n",
        "  print(\"a is greater than b\")\n",
        "elif a==b:\n",
        "  print(\"a is equals to b\")\n",
        "else:\n",
        "  print(\"a is less than b\")\n"
      ],
      "metadata": {
        "colab": {
          "base_uri": "https://localhost:8080/"
        },
        "id": "NkZVIVyOHiZj",
        "outputId": "e843739e-b784-4e9f-8a56-c6646fd1c95a"
      },
      "execution_count": null,
      "outputs": [
        {
          "output_type": "stream",
          "name": "stdout",
          "text": [
            "a is less than b\n"
          ]
        }
      ]
    },
    {
      "cell_type": "markdown",
      "source": [
        "7. Describe the different types of loops in Python and their use cases with\n",
        "   examples.\n",
        "   \n",
        "   = Loop is construct that aloows you to execute a block of code repeatedly. It is of two types, They are as follow;\n",
        "   1. While loop:\n",
        "   - It repeatedly execute a block of code untill a condition is meet.\n",
        "   \n",
        "     example:\n"
      ],
      "metadata": {
        "id": "-Xzhfwt_IQHa"
      }
    },
    {
      "cell_type": "code",
      "source": [
        "n=7\n",
        "i=1\n",
        "while i<n:\n",
        "  print(i)\n",
        "  i=i+1"
      ],
      "metadata": {
        "colab": {
          "base_uri": "https://localhost:8080/"
        },
        "id": "QTTde7tvJhsj",
        "outputId": "281e314c-8996-4088-c840-74bc4ee44bbb"
      },
      "execution_count": null,
      "outputs": [
        {
          "output_type": "stream",
          "name": "stdout",
          "text": [
            "1\n",
            "2\n",
            "3\n",
            "4\n",
            "5\n",
            "6\n"
          ]
        }
      ]
    },
    {
      "cell_type": "markdown",
      "source": [
        "       2. For loop:\n",
        "       -  It iterate over a sequence of element and execute a block of code for each item in that sequence. Some of its example are as follow,\n",
        "\n",
        "       Example:\n",
        "       "
      ],
      "metadata": {
        "id": "zJQ2PhDAKFqz"
      }
    },
    {
      "cell_type": "code",
      "source": [
        "for i in \"pwskills\":\n",
        "  print(i)\n",
        "\n"
      ],
      "metadata": {
        "colab": {
          "base_uri": "https://localhost:8080/"
        },
        "id": "UJjal-vZKxnT",
        "outputId": "809d9390-c011-41c6-e106-ce009d5ff7e0"
      },
      "execution_count": null,
      "outputs": [
        {
          "output_type": "stream",
          "name": "stdout",
          "text": [
            "p\n",
            "w\n",
            "s\n",
            "k\n",
            "i\n",
            "l\n",
            "l\n",
            "s\n"
          ]
        }
      ]
    },
    {
      "cell_type": "code",
      "source": [
        "l=[1,2,3,4.66,\"Bijay\"]\n",
        "for i in l:\n",
        "  if l==4:\n",
        "    continue\n",
        "  print(i)\n",
        "else:\n",
        "  print(\"this is else\")"
      ],
      "metadata": {
        "colab": {
          "base_uri": "https://localhost:8080/"
        },
        "id": "0bCAr8fLK9MY",
        "outputId": "9a04bd16-9205-43b9-de43-3ba7dbb21c82"
      },
      "execution_count": null,
      "outputs": [
        {
          "output_type": "stream",
          "name": "stdout",
          "text": [
            "1\n",
            "2\n",
            "3\n",
            "4.66\n",
            "Bijay\n",
            "this is else\n"
          ]
        }
      ]
    },
    {
      "cell_type": "code",
      "source": [],
      "metadata": {
        "id": "Yw0WZLLTLOdn"
      },
      "execution_count": null,
      "outputs": []
    }
  ]
}